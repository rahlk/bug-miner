{
 "cells": [
  {
   "cell_type": "markdown",
   "metadata": {},
   "source": [
    "# Ant"
   ]
  },
  {
   "cell_type": "markdown",
   "metadata": {},
   "source": [
    "## 1. Consolidate commits\n",
    "---\n",
    "\n",
    "To get the release dates, I look for dates of commits tagged for release. To do this, I ran git log as follows:\n",
    "```sh\n",
    "git log --no-walk --tags --pretty=\"%%aD h \\t %d\" --decorate=auto > ant_tags.csv\n",
    "```\n",
    "This is saved in `ant_tags.csv`\n",
    "\n",
    "\n",
    "Next, to get all commits made to date, I ran the following command:\n",
    "```sh\n",
    "git log --pretty=format:\"%h%ad%s\" > ant_commits.csv\n",
    "```\n",
    "This is saved as ant_tags.csv.\n",
    "\n",
    "I had to preprocess the csvs to remove any timezone info. I used the following:\n",
    "```sh\n",
    "/^(?:Z|[+-](?:2[0-3]|[01][0-9]):[0-5][0-9])$/\n",
    "```\n",
    "\n",
    "The goal of the rest of this code is combine the above two files to create a consolidated list of commits and release dates as seperate csv files. Each of the individual files will pertain to one release, i.e., all the commits that have been made post that release and prior to the next release."
   ]
  },
  {
   "cell_type": "markdown",
   "metadata": {},
   "source": [
    "### 1.1.  Imports"
   ]
  },
  {
   "cell_type": "code",
   "execution_count": 1,
   "metadata": {
    "collapsed": true
   },
   "outputs": [],
   "source": [
    "from __future__ import print_function\n",
    "import os, sys, shlex\n",
    "import pandas as pd\n",
    "from pdb import set_trace\n",
    "import warnings\n",
    "from datetime import datetime\n",
    "import dateutil\n",
    "import subprocess\n",
    "from glob2 import glob\n",
    "\n",
    "warnings.filterwarnings(\"ignore\")\n",
    "\n",
    "root = os.path.join(os.getcwd().split(\"bug_miner\")[0], \"bug_miner\")\n",
    "if root not in sys.path:\n",
    "    sys.path.append(root)"
   ]
  },
  {
   "cell_type": "markdown",
   "metadata": {},
   "source": [
    "### 1.2. Read the csv files\n",
    "\n",
    "1. The date is raw, so read it and add column labels.\n",
    "2. Convert column 1 (which is a string) to a datetime format.\n",
    "3. Sort data chronologically\n"
   ]
  },
  {
   "cell_type": "code",
   "execution_count": 2,
   "metadata": {
    "collapsed": true
   },
   "outputs": [],
   "source": [
    "def get_data_as_dframe():\n",
    "    releases = pd.read_csv(\"ant_tags.csv\", delimiter=\"  \", header=None)\n",
    "    releases.columns = [\"Timestamp\", \"Commit_ID\", \"Version\"]\n",
    "    all_commits = pd.read_csv(\"ant_commits.txt\", delimiter=\"___\", header=None)\n",
    "    all_commits.columns = [\"Timestamp\", \"Commit_ID\", \"Commit Message\"]\n",
    "    \"Formate Datetime\"\n",
    "    releases[\"Timestamp\"] = releases[\"Timestamp\"].apply(lambda x: dateutil.parser.parse(x))\n",
    "    all_commits[\"Timestamp\"] = all_commits[\"Timestamp\"].apply(lambda x: dateutil.parser.parse(x))\n",
    "    \"Sort data chronologically\"\n",
    "    releases = releases.sort_values(by=\"Timestamp\").reset_index(drop=True)\n",
    "    all_commits = all_commits.sort_values(by=\"Timestamp\").reset_index(drop=True)\n",
    "    \n",
    "    return all_commits, releases"
   ]
  },
  {
   "cell_type": "markdown",
   "metadata": {},
   "source": [
    "### 1.3. Find commits between releases"
   ]
  },
  {
   "cell_type": "code",
   "execution_count": 3,
   "metadata": {
    "collapsed": true
   },
   "outputs": [],
   "source": [
    "all_commits, releases = get_data_as_dframe()\n",
    "commits_made = dict()\n",
    "for current_release_date, next_release_date, current_release_version in zip(releases[\"Timestamp\"][:-1], releases[\"Timestamp\"][1:], releases[\"Version\"][:-1]):\n",
    "    commits_made.update({current_release_version: list()})\n",
    "    for index, commit in all_commits.iterrows():\n",
    "        if current_release_date <= commit[\"Timestamp\"] < next_release_date:\n",
    "            commits_made[current_release_version].append(commit.values.tolist()[1:])"
   ]
  },
  {
   "cell_type": "markdown",
   "metadata": {},
   "source": [
    "### 1.4. Save commits between each of the releases as csv (to be processed later..)"
   ]
  },
  {
   "cell_type": "code",
   "execution_count": 4,
   "metadata": {
    "collapsed": true
   },
   "outputs": [],
   "source": [
    "for version, commits_between in commits_made.iteritems():\n",
    "    commits = pd.DataFrame(commits_between, columns=[\"Hash\", \"Message\"])\n",
    "    spath = os.path.abspath(os.path.join(root, \"bug_miner/projects/consolidated/ant\", \"ant-{}.csv\".format(version)))\n",
    "    commits.to_csv(spath, index=False)"
   ]
  },
  {
   "cell_type": "markdown",
   "metadata": {},
   "source": [
    "## 2. Create A Dataset\n",
    "\n",
    "Now the task is to compute CK Metrics using the [ckjm tool](https://github.com/dspinellis/ckjm) for one release, then, look for files that changed after one release and before the next release using the commit hashes."
   ]
  },
  {
   "cell_type": "markdown",
   "metadata": {},
   "source": [
    "### 2.1 Compute CK Metrics for releases"
   ]
  },
  {
   "cell_type": "code",
   "execution_count": null,
   "metadata": {},
   "outputs": [
    {
     "name": "stdout",
     "output_type": "stream",
     "text": [
      "org.apache.tools.ant.IntrospectionHelper$1 2 2 0 6 3 0 0 6 0 0.5000 17 0.0000 0 0.8571 0.7000 0 0 6.5000\n",
      " ~ Object create(org.apache.tools.ant.Project project, Object parent, Object ignore): 1\n",
      " ~ void <init>(org.apache.tools.ant.IntrospectionHelper this$0, java.lang.reflect.Method m, Object): 1\n",
      "\n",
      "\n",
      "> <ipython-input-13-7b63432500bb>(13)run_ckjm()\n",
      "-> for class_file in glob(project_src+\"/**/*.class\"):\n"
     ]
    }
   ],
   "source": [
    "metrics = []\n",
    "# Location of the ckjm metrics suit\n",
    "ckjm_path = os.path.expanduser(\"~/git/ckjm/target/runable-ckjm_ext-2.3-SNAPSHOT.jar\")\n",
    "# The root dir of the test project's git repo.\n",
    "project_src = os.path.join(root, \"bug_miner/projects/raw/ant/\") \n",
    "# Get all the release data\n",
    "version_commits = glob(os.path.join(root, \"bug_miner/projects/consolidated/ant/*.csv\"))\n",
    "\n",
    "def git_checkout(hash):\n",
    "    return subprocess.call(\"git checkout -f {}\".format(hash), stdout=subprocess.PIPE, stderr=open(os.devnull, \"w\"), shell=True)\n",
    "\n",
    "def run_ckjm():\n",
    "    for class_file in glob(project_src+\"/**/*.class\"):        \n",
    "        cmd = shlex.split(\"java -jar {} -s {}\".format(ckjm_path, class_file))\n",
    "        print(subprocess.Popen(cmd, stdout=subprocess.PIPE, stderr=subprocess.PIPE).communicate()[0])\n",
    "        set_trace()\n",
    "\n",
    "    \n",
    "#     print(subprocess.Popen(cmd, stdout=subprocess.PIPE, stderr=open(os.devnull, \"w\"))\n",
    "\n",
    "def save_metrics():\n",
    "    for version in version_commits:\n",
    "        hashes = pd.read_csv(version)[\"Hash\"]\n",
    "        git_checkout(hashes.values[0])\n",
    "        metrics = run_ckjm().communicate()\n",
    "        set_trace()\n",
    "        \n",
    "#     print(\"<metrics>\", \"\\n\".join(metrics), \"</metrics>\", sep=\"\\n\", file=open(os.path.join(save_path, version + \".xml\"), \"w+\"))\n",
    "    \n",
    "    \n",
    "if __name__ == \"__main__\":\n",
    "    save_metrics()"
   ]
  },
  {
   "cell_type": "code",
   "execution_count": null,
   "metadata": {
    "collapsed": true
   },
   "outputs": [],
   "source": [
    "version_commits"
   ]
  },
  {
   "cell_type": "raw",
   "metadata": {
    "collapsed": true
   },
   "source": []
  }
 ],
 "metadata": {
  "kernelspec": {
   "display_name": "Python 2",
   "language": "python",
   "name": "python2"
  },
  "language_info": {
   "codemirror_mode": {
    "name": "ipython",
    "version": 2
   },
   "file_extension": ".py",
   "mimetype": "text/x-python",
   "name": "python",
   "nbconvert_exporter": "python",
   "pygments_lexer": "ipython2",
   "version": "2.7.13"
  }
 },
 "nbformat": 4,
 "nbformat_minor": 2
}
