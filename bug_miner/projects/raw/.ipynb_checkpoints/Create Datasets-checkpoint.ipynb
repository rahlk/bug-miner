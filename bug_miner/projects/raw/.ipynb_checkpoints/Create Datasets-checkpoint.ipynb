{
 "cells": [
  {
   "cell_type": "markdown",
   "metadata": {},
   "source": [
    "# Ant"
   ]
  },
  {
   "cell_type": "markdown",
   "metadata": {},
   "source": [
    "## 1. Consolidate commits\n",
    "---\n",
    "\n",
    "To get the release dates, I look for dates of commits tagged for release. To do this, I ran git log as follows:\n",
    "```sh\n",
    "git log --no-walk --tags --pretty=\"%%aD h \\t %d\" --decorate=auto > ant_tags.csv\n",
    "```\n",
    "This is saved in `ant_tags.csv`\n",
    "\n",
    "\n",
    "Next, to get all commits made to date, I ran the following command:\n",
    "```sh\n",
    "git log --pretty=format:\"%h%ad%s\" > ant_commits.csv\n",
    "```\n",
    "This is saved as ant_tags.csv.\n",
    "\n",
    "I had to preprocess the csvs to remove any timezone info. I used the following:\n",
    "```sh\n",
    "/^(?:Z|[+-](?:2[0-3]|[01][0-9]):[0-5][0-9])$/\n",
    "```\n",
    "\n",
    "The goal of the rest of this code is combine the above two files to create a consolidated list of commits and release dates as seperate csv files. Each of the individual files will pertain to one release, i.e., all the commits that have been made post that release and prior to the next release."
   ]
  },
  {
   "cell_type": "markdown",
   "metadata": {},
   "source": [
    "### 1.1.  Imports"
   ]
  },
  {
   "cell_type": "code",
   "execution_count": 1,
   "metadata": {
    "collapsed": true
   },
   "outputs": [],
   "source": [
    "from __future__ import print_function\n",
    "import os, sys, shlex\n",
    "import pandas as pd\n",
    "from pdb import set_trace\n",
    "import warnings\n",
    "from datetime import datetime\n",
    "import dateutil\n",
    "import subprocess\n",
    "from glob2 import glob\n",
    "\n",
    "warnings.filterwarnings(\"ignore\")\n",
    "\n",
    "root = os.path.join(os.getcwd().split(\"bug_miner\")[0], \"bug_miner\")\n",
    "if root not in sys.path:\n",
    "    sys.path.append(root)"
   ]
  },
  {
   "cell_type": "markdown",
   "metadata": {},
   "source": [
    "### 1.2. Read the csv files\n",
    "\n",
    "1. The date is raw, so read it and add column labels.\n",
    "2. Convert column 1 (which is a string) to a datetime format.\n",
    "3. Sort data chronologically\n"
   ]
  },
  {
   "cell_type": "code",
   "execution_count": 2,
   "metadata": {
    "collapsed": true
   },
   "outputs": [],
   "source": [
    "def get_data_as_dframe():\n",
    "    releases = pd.read_csv(\"ant_tags.csv\", delimiter=\"  \", header=None)\n",
    "    releases.columns = [\"Timestamp\", \"Commit_ID\", \"Version\"]\n",
    "    all_commits = pd.read_csv(\"ant_commits.txt\", delimiter=\"___\", header=None)\n",
    "    all_commits.columns = [\"Timestamp\", \"Commit_ID\", \"Commit Message\"]\n",
    "    \"Formate Datetime\"\n",
    "    releases[\"Timestamp\"] = releases[\"Timestamp\"].apply(lambda x: dateutil.parser.parse(x))\n",
    "    all_commits[\"Timestamp\"] = all_commits[\"Timestamp\"].apply(lambda x: dateutil.parser.parse(x))\n",
    "    \"Sort data chronologically\"\n",
    "    releases = releases.sort_values(by=\"Timestamp\", ascending=False).reset_index(drop=True)\n",
    "    all_commits = all_commits.sort_values(by=\"Timestamp\", ascending=False).reset_index(drop=True)\n",
    "    \n",
    "    return all_commits, releases"
   ]
  },
  {
   "cell_type": "markdown",
   "metadata": {},
   "source": [
    "### 1.3. Find commits between releases"
   ]
  },
  {
   "cell_type": "code",
   "execution_count": null,
   "metadata": {
    "collapsed": true
   },
   "outputs": [],
   "source": [
    "all_commits, releases = get_data_as_dframe()\n",
    "commits_made = dict()\n",
    "for current_release_date, next_release_date, current_release_version in zip(releases[\"Timestamp\"][:-1], releases[\"Timestamp\"][1:], releases[\"Version\"][:-1]):\n",
    "    commits_made.update({current_release_version: list()})\n",
    "    for index, commit in all_commits.iterrows():\n",
    "        if current_release_date <= commit[\"Timestamp\"] < next_release_date:\n",
    "            commits_made[current_release_version].append(commit.values.tolist()[1:])"
   ]
  },
  {
   "cell_type": "markdown",
   "metadata": {},
   "source": [
    "### 1.4. Save commits between each of the releases as csv (to be processed later..)"
   ]
  },
  {
   "cell_type": "code",
   "execution_count": null,
   "metadata": {
    "collapsed": true
   },
   "outputs": [],
   "source": [
    "for version, commits_between in commits_made.iteritems():\n",
    "    commits = pd.DataFrame(commits_between, columns=[\"Hash\", \"Message\"])\n",
    "    spath = os.path.abspath(os.path.join(root, \"bug_miner/projects/consolidated/ant\", \"ant-{}.csv\".format(version)))\n",
    "    commits.to_csv(spath, index=False)"
   ]
  },
  {
   "cell_type": "markdown",
   "metadata": {},
   "source": [
    "## 2. Create A Dataset\n",
    "\n",
    "Now the task is to compute CK Metrics using the [ckjm tool](https://github.com/dspinellis/ckjm) for one release, then, look for files that changed after one release and before the next release using the commit hashes."
   ]
  },
  {
   "cell_type": "markdown",
   "metadata": {},
   "source": [
    "### 2.1 Compute CK Metrics for releases"
   ]
  },
  {
   "cell_type": "code",
   "execution_count": null,
   "metadata": {},
   "outputs": [
    {
     "name": "stdout",
     "output_type": "stream",
     "text": [
      "Buildfile: /Users/rkrsn/git/bug_miner/bug_miner/projects/raw/ant/build.xml\n",
      "\n",
      "prepare:\n",
      "\n",
      "check_for_optional_packages:\n",
      "\n",
      "build:\n",
      "Copying 2 files to /Users/rkrsn/git/bug_miner/bug_miner/projects/raw/ant/build/classes\n",
      "\n",
      "jars:\n",
      "Building jar: /Users/rkrsn/git/bug_miner/bug_miner/projects/raw/ant/build/lib/ant.jar\n",
      "\n",
      "compile-tests:\n",
      "\n",
      "test-jar:\n",
      "\n",
      "dist-lite:\n",
      "Copying 1 file to /Users/rkrsn/git/bug_miner/bug_miner/projects/raw/ant/dist/lib\n",
      "\n",
      "main:\n",
      "\n",
      "BUILD SUCCESSFUL\n",
      "Total time: 2 seconds\n",
      "\n",
      "\n",
      "> <ipython-input-4-3dcea796fb16>(25)run_ckjm()\n",
      "-> for class_file in glob(project_src+\"/**/*.class\"):\n",
      "(Pdb) l\n",
      " 20  \t    os.chdir(pwd)\n",
      " 21  \t    return cmdout\n",
      " 22  \t\n",
      " 23  \t\n",
      " 24  \tdef run_ckjm():\n",
      " 25  ->\t    for class_file in glob(project_src+\"/**/*.class\"):        \n",
      " 26  \t#         cmd = shlex.split(\"java -jar {} -s {}\".format(ckjm_path, class_file))\n",
      " 27  \t#         print(subprocess.Popen(cmd, stdout=subprocess.PIPE, stderr=subprocess.PIPE).communicate()[0])\n",
      " 28  \t        set_trace()\n",
      " 29  \t\n",
      " 30  \t\n",
      "(Pdb) class_file\n",
      "'/Users/rkrsn/git/bug_miner/bug_miner/projects/raw/ant/build/classes/org/apache/tools/ant/AntClassLoader$ResourceEnumeration.class'\n",
      "(Pdb) cmd = shlex.split(\"java -jar {} -s {}\".format(ckjm_path, class_file))\n",
      "(Pdb) print(subprocess.Popen(cmd, stdout=subprocess.PIPE, stderr=subprocess.PIPE).communicate()[0])\n",
      "org.apache.tools.ant.AntClassLoader$ResourceEnumeration 5 1 0 10 10 2 0 10 3 0.1875 85 0.7500 0 0.0000 0.4667 0 0 15.2000\n",
      " ~ private void findNextResource(): 3\n",
      " ~ void <init>(org.apache.tools.ant.AntClassLoader, String name): 1\n",
      " ~ public boolean hasMoreElements(): 2\n",
      " ~ public java.net.URL nextElement(): 2\n",
      " ~ public volatile Object nextElement(): 1\n",
      "\n",
      "\n",
      "(Pdb) cmd = shlex.split(\"java -jar {} -x {}\".format(ckjm_path, class_file))\n",
      "(Pdb) print(subprocess.Popen(cmd, stdout=subprocess.PIPE, stderr=subprocess.PIPE).communicate()[0])\n",
      "\t<class>\n",
      "\t\t<name>org.apache.tools.ant.AntClassLoader$ResourceEnumeration</name>\n",
      "\t\t<wmc>5</wmc>\n",
      "\t\t<dit>1</dit>\n",
      "\t\t<noc>0</noc>\n",
      "\t\t<cbo>2</cbo>\n",
      "\t\t<rfc>10</rfc>\n",
      "\t\t<lcom>2</lcom>\n",
      "\t\t<ca>0</ca>\n",
      "\t\t<ce>2</ce>\n",
      "\t\t<npm>3</npm>\n",
      "\t\t<lcom3>0.1875</lcom3>\n",
      "\t\t<loc>85</loc>\n",
      "\t\t<dam>0.75</dam>\n",
      "\t\t<moa>0</moa>\n",
      "\t\t<mfa>0.0</mfa>\n",
      "\t\t<cam>0.4666666666666667</cam>\n",
      "\t\t<ic>0</ic>\n",
      "\t\t<cbm>0</cbm>\n",
      "\t\t<amc>15.2</amc>\n",
      "\t\t<cc>\n",
      "\t\t\t<method name=\"private void findNextResource()\">3</method>\n",
      "\t\t\t<method name=\"void _init_(org.apache.tools.ant.AntClassLoader, String name)\">1</method>\n",
      "\t\t\t<method name=\"public boolean hasMoreElements()\">2</method>\n",
      "\t\t\t<method name=\"public java.net.URL nextElement()\">2</method>\n",
      "\t\t\t<method name=\"public volatile Object nextElement()\">1</method>\n",
      "\t\t</cc>\n",
      "\t</class>\n",
      "\n"
     ]
    }
   ],
   "source": [
    "metrics = []\n",
    "# Location of the ckjm metrics suit\n",
    "ckjm_path = os.path.expanduser(\"~/ckjm/target/runable-ckjm_ext-2.3-SNAPSHOT.jar\")\n",
    "# The root dir of the test project's git repo.\n",
    "project_src = os.path.join(root, \"bug_miner/projects/raw/ant/\") \n",
    "# Get all the release data\n",
    "_, releases = get_data_as_dframe()\n",
    "\n",
    "\n",
    "def git_checkout(hash):\n",
    "    return subprocess.Popen(shlex.split(\"git -C {} checkout -f {}\".format(project_src, hash)), stdout=subprocess.PIPE, stderr=subprocess.PIPE).communicate()\n",
    "\n",
    "\n",
    "def build():\n",
    "    pwd = os.getcwd()\n",
    "    os.chdir(project_src)\n",
    "    cmdout = subprocess.Popen([\"sh\", \"build.sh\"], stdout=subprocess.PIPE, stderr=subprocess.PIPE).communicate()\n",
    "    print(cmdout[0])\n",
    "    print(cmdout[1])\n",
    "    os.chdir(pwd)\n",
    "    return cmdout\n",
    "\n",
    "\n",
    "def run_ckjm():\n",
    "    for class_file in glob(project_src+\"/**/*.class\"):        \n",
    "        cmd = shlex.split(\"java -jar {} -x {}\".format(ckjm_path, class_file))\n",
    "        yield subprocess.Popen(cmd, stdout=subprocess.PIPE, stderr=subprocess.PIPE).communicate()[0]\n",
    "\n",
    "\n",
    "def save_metrics():\n",
    "    hashes = releases[releases.columns[1]]\n",
    "    checkout_status = git_checkout(hashes.values[0])\n",
    "    build_status = build()\n",
    "    run_ckjm()\n",
    "    set_trace()\n",
    "        \n",
    "if __name__ == \"__main__\":\n",
    "    save_metrics()"
   ]
  },
  {
   "cell_type": "code",
   "execution_count": null,
   "metadata": {
    "collapsed": true
   },
   "outputs": [],
   "source": [
    "version_commits"
   ]
  },
  {
   "cell_type": "raw",
   "metadata": {
    "collapsed": true
   },
   "source": []
  }
 ],
 "metadata": {
  "kernelspec": {
   "display_name": "Python 2",
   "language": "python",
   "name": "python2"
  },
  "language_info": {
   "codemirror_mode": {
    "name": "ipython",
    "version": 2
   },
   "file_extension": ".py",
   "mimetype": "text/x-python",
   "name": "python",
   "nbconvert_exporter": "python",
   "pygments_lexer": "ipython2",
   "version": "2.7.13"
  }
 },
 "nbformat": 4,
 "nbformat_minor": 2
}
