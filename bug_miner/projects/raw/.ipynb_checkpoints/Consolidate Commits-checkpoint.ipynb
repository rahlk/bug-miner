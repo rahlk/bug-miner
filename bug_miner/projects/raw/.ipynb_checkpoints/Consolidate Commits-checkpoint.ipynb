{
 "cells": [
  {
   "cell_type": "markdown",
   "metadata": {},
   "source": [
    "# Consolidate commits\n",
    "---\n",
    "\n",
    "We have 2 csv files here:\n",
    "  1. ant_commits.csv\n",
    "  2. ant_tags.csv\n",
    "\n",
    "The goal of the rest of the code is combine the above two files to create a consolidated list of commits and release dates as seperate csv files. \n",
    "\n",
    "Each of the files will pertain to one release, i.e., all the commits that have been made post that release and prior to the next release."
   ]
  },
  {
   "cell_type": "markdown",
   "metadata": {},
   "source": [
    "### Imports"
   ]
  },
  {
   "cell_type": "code",
   "execution_count": 1,
   "metadata": {
    "collapsed": true
   },
   "outputs": [],
   "source": [
    "from __future__ import print_function\n",
    "import pandas as pd\n",
    "from pdb import set_trace\n",
    "import warnings\n",
    "from datetime import datetime\n",
    "import dateutil\n",
    "warnings.filterwarnings(\"ignore\")"
   ]
  },
  {
   "cell_type": "markdown",
   "metadata": {},
   "source": [
    "### Read the csv files\n",
    "\n",
    "1. The date is raw, so read it and add column labels.\n",
    "2. Convert column 1 (which is a string) to a datetime format.\n",
    "3. Sort data chronologically\n"
   ]
  },
  {
   "cell_type": "code",
   "execution_count": 2,
   "metadata": {
    "collapsed": true
   },
   "outputs": [],
   "source": [
    "releases = pd.read_csv(\"ant_tags.csv\", delimiter=\"  \", header=None)\n",
    "releases.columns = [\"Timestamp\", \"Commit_ID\", \"Version\"]\n",
    "all_commits = pd.read_csv(\"ant_commits.txt\", delimiter=\"___\", header=None)\n",
    "all_commits.columns = [\"Timestamp\", \"Commit ID\", \"Commit Message\"]"
   ]
  },
  {
   "cell_type": "code",
   "execution_count": 3,
   "metadata": {
    "collapsed": true
   },
   "outputs": [],
   "source": [
    "\"Formate Datetime\"\n",
    "releases[\"Timestamp\"] = releases[\"Timestamp\"].apply(lambda x: dateutil.parser.parse(x))\n",
    "all_commits[\"Timestamp\"] = all_commits[\"Timestamp\"].apply(lambda x: dateutil.parser.parse(x))"
   ]
  },
  {
   "cell_type": "code",
   "execution_count": 4,
   "metadata": {},
   "outputs": [],
   "source": [
    "\"Sort data chronologically\"\n",
    "releases = releases.sort_values(by=\"Timestamp\").reset_index(drop=True)\n",
    "all_commits = all_commits.sort_values(by=\"Timestamp\").reset_index(drop=True)"
   ]
  },
  {
   "cell_type": "markdown",
   "metadata": {},
   "source": [
    "### Get release and commit dates"
   ]
  },
  {
   "cell_type": "code",
   "execution_count": 6,
   "metadata": {},
   "outputs": [
    {
     "ename": "IndentationError",
     "evalue": "expected an indented block (<ipython-input-6-9781cfa400ee>, line 6)",
     "output_type": "error",
     "traceback": [
      "\u001b[0;36m  File \u001b[0;32m\"<ipython-input-6-9781cfa400ee>\"\u001b[0;36m, line \u001b[0;32m6\u001b[0m\n\u001b[0;31m    print( current_release_date, next_release_date, commit[\"Timestamp\"])\u001b[0m\n\u001b[0m        ^\u001b[0m\n\u001b[0;31mIndentationError\u001b[0m\u001b[0;31m:\u001b[0m expected an indented block\n"
     ]
    }
   ],
   "source": [
    "commits_made = dict()\n",
    "for current_release_date, next_release_date, current_release_version in zip(releases[\"Timestamp\"][:-1], releases[\"Timestamp\"][1:], releases[\"Version\"][:-1]):\n",
    "    commits_made.update({current_release_version: list()})\n",
    "    for index, commit in all_commits.iterrows():\n",
    "        if current_release_date <= commit[\"Timestamp\"] < next_release_date:\n",
    "            print( current_release_date, next_release_date, commit[\"Timestamp\"])            "
   ]
  },
  {
   "cell_type": "code",
   "execution_count": 55,
   "metadata": {
    "collapsed": true
   },
   "outputs": [],
   "source": [
    "%%bash\n",
    "\n",
    "atom ant_commits.txt"
   ]
  }
 ],
 "metadata": {
  "kernelspec": {
   "display_name": "Python 2",
   "language": "python",
   "name": "python2"
  },
  "language_info": {
   "codemirror_mode": {
    "name": "ipython",
    "version": 2
   },
   "file_extension": ".py",
   "mimetype": "text/x-python",
   "name": "python",
   "nbconvert_exporter": "python",
   "pygments_lexer": "ipython2",
   "version": "2.7.13"
  }
 },
 "nbformat": 4,
 "nbformat_minor": 2
}
