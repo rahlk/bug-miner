{
 "cells": [
  {
   "cell_type": "markdown",
   "metadata": {},
   "source": [
    "# Consolidate commits\n",
    "---\n",
    "\n",
    "We have 2 csv files here:\n",
    "  1. ant_commits.csv\n",
    "  2. ant_tags.csv\n",
    "\n",
    "The goal of the rest of the code is combine the above two files to create a consolidated list of commits and release dates as seperate csv files. \n",
    "\n",
    "Each of the files will pertain to one release, i.e., all the commits that have been made post that release and prior to the next release."
   ]
  },
  {
   "cell_type": "markdown",
   "metadata": {},
   "source": [
    "### Imports"
   ]
  },
  {
   "cell_type": "code",
   "execution_count": 42,
   "metadata": {
    "collapsed": true
   },
   "outputs": [],
   "source": [
    "from __future__ import print_function\n",
    "import pandas as pd\n",
    "from pdb import set_trace\n",
    "import warnings\n",
    "from datetime import datetime\n",
    "import dateutil\n",
    "warnings.filterwarnings(\"ignore\")"
   ]
  },
  {
   "cell_type": "markdown",
   "metadata": {},
   "source": [
    "### Read the csv files\n",
    "\n",
    "1. The date is raw, so read it and add column labels.\n",
    "2. Convert column 1 (which is a string) to a datetime format.\n",
    "3. Sort data chronologically\n"
   ]
  },
  {
   "cell_type": "code",
   "execution_count": 43,
   "metadata": {
    "collapsed": true
   },
   "outputs": [],
   "source": [
    "releases = pd.read_csv(\"ant_tags.csv\", delimiter=\"  \", header=None)\n",
    "releases.columns = [\"Timestamp\", \"Commit_ID\", \"Version\"]\n",
    "all_commits = pd.read_csv(\"ant_commits.txt\", delimiter=\"___\", header=None)\n",
    "all_commits.columns = [\"Timestamp\", \"Commit ID\", \"Commit Message\"]"
   ]
  },
  {
   "cell_type": "code",
   "execution_count": 44,
   "metadata": {
    "collapsed": true
   },
   "outputs": [],
   "source": [
    "\"Formate Datetime\"\n",
    "releases[\"Timestamp\"] = releases[\"Timestamp\"].apply(lambda x: dateutil.parser.parse(x))\n",
    "all_commits[\"Timestamp\"] = all_commits[\"Timestamp\"].apply(lambda x: dateutil.parser.parse(x))"
   ]
  },
  {
   "cell_type": "code",
   "execution_count": 45,
   "metadata": {},
   "outputs": [],
   "source": [
    "\"Sort data chronologically\"\n",
    "releases = releases.sort_values(by=\"Timestamp\").reset_index(drop=True)\n",
    "all_commits = all_commits.sort_values(by=\"Timestamp\").reset_index(drop=True)"
   ]
  },
  {
   "cell_type": "markdown",
   "metadata": {},
   "source": [
    "### Get release and commit dates"
   ]
  },
  {
   "cell_type": "code",
   "execution_count": 48,
   "metadata": {},
   "outputs": [
    {
     "ename": "NameError",
     "evalue": "name 'release' is not defined",
     "output_type": "error",
     "traceback": [
      "\u001b[0;31m---------------------------------------------------------------------------\u001b[0m",
      "\u001b[0;31mNameError\u001b[0m                                 Traceback (most recent call last)",
      "\u001b[0;32m<ipython-input-48-9f621a49c2a3>\u001b[0m in \u001b[0;36m<module>\u001b[0;34m()\u001b[0m\n\u001b[1;32m      1\u001b[0m \u001b[0mcommits_made\u001b[0m \u001b[0;34m=\u001b[0m \u001b[0mdict\u001b[0m\u001b[0;34m(\u001b[0m\u001b[0;34m)\u001b[0m\u001b[0;34m\u001b[0m\u001b[0m\n\u001b[0;32m----> 2\u001b[0;31m \u001b[0;32mfor\u001b[0m \u001b[0mcurrent_release_date\u001b[0m\u001b[0;34m,\u001b[0m \u001b[0mnext_release_date\u001b[0m\u001b[0;34m,\u001b[0m \u001b[0mcurrent_release_version\u001b[0m \u001b[0;32min\u001b[0m \u001b[0mzip\u001b[0m\u001b[0;34m(\u001b[0m\u001b[0mreleases\u001b[0m\u001b[0;34m[\u001b[0m\u001b[0;34m\"Timestamp\"\u001b[0m\u001b[0;34m]\u001b[0m\u001b[0;34m[\u001b[0m\u001b[0;34m:\u001b[0m\u001b[0;34m-\u001b[0m\u001b[0;36m1\u001b[0m\u001b[0;34m]\u001b[0m\u001b[0;34m,\u001b[0m \u001b[0mreleases\u001b[0m\u001b[0;34m[\u001b[0m\u001b[0;34m\"Timestamp\"\u001b[0m\u001b[0;34m]\u001b[0m\u001b[0;34m[\u001b[0m\u001b[0;36m1\u001b[0m\u001b[0;34m:\u001b[0m\u001b[0;34m]\u001b[0m\u001b[0;34m,\u001b[0m \u001b[0mrelease\u001b[0m\u001b[0;34m[\u001b[0m\u001b[0;34m\"Version\"\u001b[0m\u001b[0;34m]\u001b[0m\u001b[0;34m[\u001b[0m\u001b[0;34m:\u001b[0m\u001b[0;34m-\u001b[0m\u001b[0;36m1\u001b[0m\u001b[0;34m]\u001b[0m\u001b[0;34m)\u001b[0m\u001b[0;34m:\u001b[0m\u001b[0;34m\u001b[0m\u001b[0m\n\u001b[0m\u001b[1;32m      3\u001b[0m     \u001b[0mcommits_made\u001b[0m\u001b[0;34m.\u001b[0m\u001b[0mupdate\u001b[0m\u001b[0;34m(\u001b[0m\u001b[0;34m{\u001b[0m\u001b[0mcurrent_release_version\u001b[0m\u001b[0;34m:\u001b[0m \u001b[0mlist\u001b[0m\u001b[0;34m(\u001b[0m\u001b[0;34m)\u001b[0m\u001b[0;34m}\u001b[0m\u001b[0;34m)\u001b[0m\u001b[0;34m\u001b[0m\u001b[0m\n\u001b[1;32m      4\u001b[0m     \u001b[0;32mfor\u001b[0m \u001b[0mcommit\u001b[0m \u001b[0;32min\u001b[0m \u001b[0mall_commits\u001b[0m\u001b[0;34m.\u001b[0m\u001b[0miterrows\u001b[0m\u001b[0;34m(\u001b[0m\u001b[0;34m)\u001b[0m\u001b[0;34m:\u001b[0m\u001b[0;34m\u001b[0m\u001b[0m\n\u001b[1;32m      5\u001b[0m         \u001b[0;32mif\u001b[0m \u001b[0mcurrent\u001b[0m \u001b[0;34m<=\u001b[0m \u001b[0mcommit\u001b[0m\u001b[0;34m[\u001b[0m\u001b[0;34m\"Timestamp\"\u001b[0m\u001b[0;34m]\u001b[0m \u001b[0;34m<\u001b[0m \u001b[0mnext\u001b[0m\u001b[0;34m:\u001b[0m\u001b[0;34m\u001b[0m\u001b[0m\n",
      "\u001b[0;31mNameError\u001b[0m: name 'release' is not defined"
     ]
    }
   ],
   "source": [
    "commits_made = dict()\n",
    "for current_release_date, next_release_date, current_release_version in zip(releases[\"Timestamp\"][:-1], releases[\"Timestamp\"][1:], releases[\"Version\"][:-1]):\n",
    "    commits_made.update({current_release_version: list()})\n",
    "    for commit in all_commits.iterrows():\n",
    "        if current <= commit[\"Timestamp\"] < next:\n",
    "            commits_made[current_release_version].append(commit.values.tolist()[1:])"
   ]
  }
 ],
 "metadata": {
  "kernelspec": {
   "display_name": "Python 2",
   "language": "python",
   "name": "python2"
  },
  "language_info": {
   "codemirror_mode": {
    "name": "ipython",
    "version": 2
   },
   "file_extension": ".py",
   "mimetype": "text/x-python",
   "name": "python",
   "nbconvert_exporter": "python",
   "pygments_lexer": "ipython2",
   "version": "2.7.13"
  }
 },
 "nbformat": 4,
 "nbformat_minor": 2
}
